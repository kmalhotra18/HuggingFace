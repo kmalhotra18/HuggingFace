{
  "nbformat": 4,
  "nbformat_minor": 0,
  "metadata": {
    "colab": {
      "provenance": [],
      "gpuType": "T4",
      "authorship_tag": "ABX9TyMdMYp4CTHFLlG9hRgrsPUY",
      "include_colab_link": true
    },
    "kernelspec": {
      "name": "python3",
      "display_name": "Python 3"
    },
    "language_info": {
      "name": "python"
    },
    "accelerator": "GPU"
  },
  "cells": [
    {
      "cell_type": "markdown",
      "metadata": {
        "id": "view-in-github",
        "colab_type": "text"
      },
      "source": [
        "<a href=\"https://colab.research.google.com/github/kmalhotra18/HuggingFace/blob/main/Models_(Llama%2C_Phi3%2C_Gemma2%2C_Qwen2%2C_Mixtral).ipynb\" target=\"_parent\"><img src=\"https://colab.research.google.com/assets/colab-badge.svg\" alt=\"Open In Colab\"/></a>"
      ]
    },
    {
      "cell_type": "markdown",
      "source": [
        "**Models**\n",
        "\n",
        "*   Looking at the lower level API of Transformers - the models that wrap PyTorch code for the transformers themselves.\n",
        "\n",
        "\n"
      ],
      "metadata": {
        "id": "wbAcwdbfMFiX"
      }
    },
    {
      "cell_type": "code",
      "execution_count": null,
      "metadata": {
        "id": "zc5M-xBHL-S9"
      },
      "outputs": [],
      "source": [
        "!pip install -q requests torch bitsandbytes transformers sentencepiece accelerate"
      ]
    },
    {
      "cell_type": "code",
      "source": [
        "from google.colab import userdata\n",
        "from huggingface_hub import login\n",
        "from transformers import AutoTokenizer, AutoModelForCausalLM, TextStreamer, BitsAndBytesConfig\n",
        "import torch\n",
        "import gc"
      ],
      "metadata": {
        "id": "QctXZN_MMYUb"
      },
      "execution_count": null,
      "outputs": []
    },
    {
      "cell_type": "markdown",
      "source": [
        "Sign in to Hugging Face"
      ],
      "metadata": {
        "id": "v_MhEpI1M54x"
      }
    },
    {
      "cell_type": "code",
      "source": [
        "hf_token = userdata.get('HF_TOKEN')\n",
        "login(hf_token, add_to_git_credential=True)"
      ],
      "metadata": {
        "id": "DPIc_4YOMZsu"
      },
      "execution_count": null,
      "outputs": []
    },
    {
      "cell_type": "code",
      "source": [
        "# instruct models\n",
        "\n",
        "LLAMA = \"meta-llama/Meta-Llama-3.1-8B-Instruct\"\n",
        "PHI3 = \"microsoft/Phi-3-mini-4k-instruct\"\n",
        "GEMMA2 = \"google/gemma-2-2b-it\"\n",
        "QWEN2 = \"Qwen/Qwen2-7B-Instruct\"                  # Alibaba model\n",
        "MIXTRAL = \"mistralai/Mixtral-8x7B-Instruct-v0.1\"  # If this doesn't fit it your GPU memory, try others from the hub with 8B parameters or fewer"
      ],
      "metadata": {
        "id": "FDE7cDJUMczA"
      },
      "execution_count": null,
      "outputs": []
    },
    {
      "cell_type": "code",
      "source": [
        "messages = [\n",
        "    {\"role\": \"system\", \"content\": \"You are a helpful assistant\"},\n",
        "    {\"role\": \"user\", \"content\": \"Tell a light-hearted joke for a room of Data Scientists\"}\n",
        "  ]"
      ],
      "metadata": {
        "id": "JTSGeBptMdDN"
      },
      "execution_count": null,
      "outputs": []
    },
    {
      "cell_type": "markdown",
      "source": [
        "Accessing Llama 3.1 from Meta"
      ],
      "metadata": {
        "id": "RJDfXa7oMf1T"
      }
    },
    {
      "cell_type": "code",
      "source": [
        "# Quantization Config - this allows us to load the model into memory and use less memory (reducing precision/weights that make up the model. It slightly reduces accuracy but saves lot of compute memory)\n",
        "#This helps often in fine-tuning the model.\n",
        "#Using library 'BitsAndBytes' and creating BitsAndBytesConfig. You're loading 4bits (can also use 8bits)\n",
        "\n",
        "quant_config = BitsAndBytesConfig(\n",
        "    load_in_4bit=True,                                                        #4bits\n",
        "    bnb_4bit_use_double_quant=True,                                           #use double quantization\n",
        "    bnb_4bit_compute_dtype=torch.bfloat16,                                    #use bfloat16 data type\n",
        "    bnb_4bit_quant_type=\"nf4\"                                                 #use 4-bit neural floating point (n=normalize)\n",
        ")"
      ],
      "metadata": {
        "id": "v1qhRz68Mfmq"
      },
      "execution_count": null,
      "outputs": []
    },
    {
      "cell_type": "code",
      "source": [
        "# Tokenizer for llama\n",
        "\n",
        "tokenizer = AutoTokenizer.from_pretrained(LLAMA)\n",
        "tokenizer.pad_token = tokenizer.eos_token                                             # pad_token used to fill up the prompt (usually set as same as special token)\n",
        "inputs = tokenizer.apply_chat_template(messages, return_tensors=\"pt\").to(\"cuda\")      # apply_chat_template function - takes messages as list of dictionaries and converts it to tokens"
      ],
      "metadata": {
        "id": "OUIQM8crMx3o"
      },
      "execution_count": null,
      "outputs": []
    },
    {
      "cell_type": "code",
      "source": [
        "# Load the model (AutoModelForCausalLM is general class of creating Gen LLM, which takes some set of tokens in past and predicts future tokens)\n",
        "#Running this - downloads all model weights and puts to google box temporarily, and loaded to memory, ready to use\n",
        "\n",
        "model = AutoModelForCausalLM.from_pretrained(LLAMA, device_map=\"auto\", quantization_config=quant_config)"
      ],
      "metadata": {
        "id": "zF9ndGDTMyLf"
      },
      "execution_count": null,
      "outputs": []
    },
    {
      "cell_type": "code",
      "source": [
        "# See how much memory the model is using\n",
        "\n",
        "memory = model.get_memory_footprint() / 1e6\n",
        "print(f\"Memory footprint: {memory:,.1f} MB\")"
      ],
      "metadata": {
        "id": "DvQYN7mJM0x7"
      },
      "execution_count": null,
      "outputs": []
    },
    {
      "cell_type": "markdown",
      "source": [
        "Looking under the hood at the Transformer model"
      ],
      "metadata": {
        "id": "1Q56VObvM2Gc"
      }
    },
    {
      "cell_type": "code",
      "source": [
        "# Look at model itself - it shows description of deep neural network (layes of the code); begins with embeddings layer (how tokens are embedded). SiLU (Sigmoid Linear Unit) activation function\n",
        "# Embedding(128256, 4096) are dimensions. YOu can see the outputs with similar dimensionality.\n",
        "\n",
        "model"
      ],
      "metadata": {
        "id": "_Ia2Ry3WM15j"
      },
      "execution_count": null,
      "outputs": []
    },
    {
      "cell_type": "code",
      "source": [
        "# Now let's run the model!\n",
        "# model.generate takes inputs sitting in GPU\n",
        "\n",
        "outputs = model.generate(inputs, max_new_tokens=80)\n",
        "print(tokenizer.decode(outputs[0]))"
      ],
      "metadata": {
        "id": "SXyHMCohM11_"
      },
      "execution_count": null,
      "outputs": []
    },
    {
      "cell_type": "code",
      "source": [
        "# Clean up memory\n",
        "# If you select \"Show Resources\" on the top right to see GPU memory, it might not drop down right away\n",
        "# But it does seem that the memory is available for use by new models in the later code.\n",
        "\n",
        "del model, inputs, tokenizer, outputs\n",
        "gc.collect()\n",
        "torch.cuda.empty_cache()"
      ],
      "metadata": {
        "id": "JiFzt9ioM1yi"
      },
      "execution_count": null,
      "outputs": []
    },
    {
      "cell_type": "code",
      "source": [
        "# Wrapping everything in a function - and adding Streaming and generation prompts\n",
        "\n",
        "def generate(model, messages):\n",
        "  tokenizer = AutoTokenizer.from_pretrained(model)                                                                # Use AutoTokenizer class to create a new tokenizer based on model you're working with\n",
        "  tokenizer.pad_token = tokenizer.eos_token\n",
        "  inputs = tokenizer.apply_chat_template(messages, return_tensors=\"pt\", add_generation_prompt=True).to(\"cuda\")    # Apply chat template suitable to tokenizer above, and put into GPU\n",
        "  streamer = TextStreamer(tokenizer)                                                                              # Stream back results using TextStreamer - that will convert tokens to text\n",
        "  model = AutoModelForCausalLM.from_pretrained(model, device_map=\"auto\", quantization_config=quant_config)        # Device_map = 'auto' (use GPU if you have one)\n",
        "  outputs = model.generate(inputs, max_new_tokens=80, streamer=streamer)\n",
        "  del model, inputs, tokenizer, outputs, streamer\n",
        "  gc.collect()\n",
        "  torch.cuda.empty_cache()"
      ],
      "metadata": {
        "id": "7duNoyuhNnVu"
      },
      "execution_count": null,
      "outputs": []
    },
    {
      "cell_type": "code",
      "source": [
        "# PHI3 model with the function above\n",
        "\n",
        "generate(PHI3, messages)"
      ],
      "metadata": {
        "id": "_arGT-sFNqw5"
      },
      "execution_count": null,
      "outputs": []
    },
    {
      "cell_type": "markdown",
      "source": [
        "Accessing **Gemma from Google**"
      ],
      "metadata": {
        "id": "iG6hjvSYNrlt"
      }
    },
    {
      "cell_type": "code",
      "source": [
        "# Use Gemma2 model from Google using the function above - this is 2B model and we're quantizing it\n",
        "# Gemma doesnt support system prompt - just pass user prompt.\n",
        "\n",
        "messages = [\n",
        "    {\"role\": \"user\", \"content\": \"Tell a light-hearted joke for a room of Data Scientists\"}\n",
        "  ]\n",
        "generate(GEMMA2, messages)"
      ],
      "metadata": {
        "id": "rvo89KcfNrKx"
      },
      "execution_count": null,
      "outputs": []
    },
    {
      "cell_type": "markdown",
      "source": [
        "**Qwen2 model**"
      ],
      "metadata": {
        "id": "LNhs2SQMSpak"
      }
    },
    {
      "cell_type": "code",
      "source": [
        "# Define the message\n",
        "messages = [\n",
        "    {\"role\": \"user\", \"content\": \"What's the difference between a list and a tuple in Python?\"}\n",
        "]"
      ],
      "metadata": {
        "id": "UDfwP5lFSpOW"
      },
      "execution_count": null,
      "outputs": []
    },
    {
      "cell_type": "code",
      "source": [
        "# Run Qwen2\n",
        "generate(QWEN2, messages)"
      ],
      "metadata": {
        "id": "rKwBi0eYYrIp"
      },
      "execution_count": null,
      "outputs": []
    },
    {
      "cell_type": "markdown",
      "source": [
        "**Mixtral model**"
      ],
      "metadata": {
        "id": "1-DwrX-TY0Oe"
      }
    },
    {
      "cell_type": "code",
      "source": [
        "# Run Mixtral\n",
        "generate(MIXTRAL, messages)"
      ],
      "metadata": {
        "id": "II1ulwycYsiY"
      },
      "execution_count": null,
      "outputs": []
    }
  ]
}