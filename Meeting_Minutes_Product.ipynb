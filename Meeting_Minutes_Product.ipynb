{
  "nbformat": 4,
  "nbformat_minor": 0,
  "metadata": {
    "colab": {
      "provenance": [],
      "gpuType": "T4",
      "authorship_tag": "ABX9TyM5Yby33cIFrH/CnEIy1Ove",
      "include_colab_link": true
    },
    "kernelspec": {
      "name": "python3",
      "display_name": "Python 3"
    },
    "language_info": {
      "name": "python"
    },
    "accelerator": "GPU"
  },
  "cells": [
    {
      "cell_type": "markdown",
      "metadata": {
        "id": "view-in-github",
        "colab_type": "text"
      },
      "source": [
        "<a href=\"https://colab.research.google.com/github/kmalhotra18/HuggingFace/blob/main/Meeting_Minutes_Product.ipynb\" target=\"_parent\"><img src=\"https://colab.research.google.com/assets/colab-badge.svg\" alt=\"Open In Colab\"/></a>"
      ]
    },
    {
      "cell_type": "markdown",
      "source": [
        "Model to **Create Meeting Minutes**\n",
        "\n",
        "\n",
        "1.   Take audio recording\n",
        "2.   Use frontier model to then covert audio to text\n",
        "3.   Use open source model to generate minutes\n",
        "4.   Stream back results in markdown\n",
        "\n"
      ],
      "metadata": {
        "id": "P7P9MOGDeRXx"
      }
    },
    {
      "cell_type": "code",
      "execution_count": null,
      "metadata": {
        "id": "L2KSGN7BeKnG"
      },
      "outputs": [],
      "source": [
        "!pip install -q requests torch bitsandbytes transformers sentencepiece accelerate openai httpx==0.27.2"
      ]
    },
    {
      "cell_type": "code",
      "source": [
        "!pip install gradio"
      ],
      "metadata": {
        "id": "1stfy-_siGpR"
      },
      "execution_count": null,
      "outputs": []
    },
    {
      "cell_type": "code",
      "source": [
        "# imports\n",
        "\n",
        "import os\n",
        "import torch\n",
        "import gradio as gr\n",
        "from openai import OpenAI\n",
        "from IPython.display import Markdown, display\n",
        "from huggingface_hub import login\n",
        "from google.colab import userdata\n",
        "from transformers import AutoTokenizer, AutoModelForCausalLM, TextStreamer, BitsAndBytesConfig"
      ],
      "metadata": {
        "id": "juQ0reDdeQSL"
      },
      "execution_count": null,
      "outputs": []
    },
    {
      "cell_type": "code",
      "source": [
        "# Constants\n",
        "\n",
        "AUDIO_MODEL = \"whisper-1\"\n",
        "LLAMA = \"meta-llama/Meta-Llama-3.1-8B-Instruct\""
      ],
      "metadata": {
        "id": "IVIKxneHeUtj"
      },
      "execution_count": null,
      "outputs": []
    },
    {
      "cell_type": "code",
      "source": [
        "# New capability - connect this Colab to my Google Drive\n",
        "# See immediately below this for instructions to obtain denver_extract.mp3\n",
        "\n",
        "# drive.mount(\"/content/drive\")\n",
        "# New capability - connect this Colab to my Google Drive\n",
        "# See immediately below this for instructions to obtain denver_extract.mp3\n",
        "\n",
        "# drive.mount(\"/content/drive\")\n",
        "# audio_filename = \"/content/drive/MyDrive/llms/denver_extract.mp3\"\n",
        "\n",
        "audio_filename = \"/content/denver_extract.mp3\""
      ],
      "metadata": {
        "id": "nyueYuAGeVyr"
      },
      "execution_count": null,
      "outputs": []
    },
    {
      "cell_type": "code",
      "source": [
        "# Sign in to HuggingFace Hub\n",
        "\n",
        "hf_token = userdata.get('HF_TOKEN')\n",
        "login(hf_token, add_to_git_credential=True)"
      ],
      "metadata": {
        "id": "hycyQTsaeZCv"
      },
      "execution_count": null,
      "outputs": []
    },
    {
      "cell_type": "code",
      "source": [
        "# Sign in to OpenAI using Secrets in Colab\n",
        "\n",
        "openai_api_key = userdata.get('OPENAI_API_KEY')\n",
        "openai = OpenAI(api_key=openai_api_key)"
      ],
      "metadata": {
        "id": "a_2tcmiqeaVu"
      },
      "execution_count": null,
      "outputs": []
    },
    {
      "cell_type": "code",
      "source": [
        "# Use the Whisper OpenAI model to convert the Audio to Text\n",
        "\n",
        "audio_file = open(audio_filename, \"rb\")\n",
        "transcription = openai.audio.transcriptions.create(model=AUDIO_MODEL, file=audio_file, response_format=\"text\")\n",
        "print(transcription)"
      ],
      "metadata": {
        "id": "oojMWAcreaTB"
      },
      "execution_count": null,
      "outputs": []
    },
    {
      "cell_type": "code",
      "source": [
        "#Prompts for Llama3\n",
        "\n",
        "system_message = \"You are an assistant that produces minutes of meetings from transcripts, with summary, key discussion points, takeaways and action items with owners, in markdown.\"\n",
        "user_prompt = f\"Below is an extract transcript of a Denver council meeting. Please write minutes in markdown, including a summary with attendees, location and date; discussion points; takeaways; and action items with owners.\\n{transcription}\"\n",
        "\n",
        "messages = [\n",
        "    {\"role\": \"system\", \"content\": system_message},\n",
        "    {\"role\": \"user\", \"content\": user_prompt}\n",
        "  ]\n"
      ],
      "metadata": {
        "id": "YGBvh7pAecOP"
      },
      "execution_count": null,
      "outputs": []
    },
    {
      "cell_type": "code",
      "source": [
        "# quant_config = BitsAndBytesConfig(\n",
        "#     load_in_4bit=True,\n",
        "#     bnb_4bit_use_double_quant=True,\n",
        "#     bnb_4bit_compute_dtype=torch.bfloat16,\n",
        "#     bnb_4bit_quant_type=\"nf4\"\n",
        "# )"
      ],
      "metadata": {
        "id": "dd67B2IyecH6"
      },
      "execution_count": null,
      "outputs": []
    },
    {
      "cell_type": "code",
      "source": [
        "#Create tokenizer for Llama using AutoTokenizer. Then Apply chat function to pass in transcription into our GPU. Then stream the results.\n",
        "\n",
        "# tokenizer = AutoTokenizer.from_pretrained(LLAMA)\n",
        "# tokenizer.pad_token = tokenizer.eos_token\n",
        "# inputs = tokenizer.apply_chat_template(messages, return_tensors=\"pt\").to(\"cuda\")\n",
        "# streamer = TextStreamer(tokenizer)\n",
        "# model = AutoModelForCausalLM.from_pretrained(LLAMA, device_map=\"auto\", quantization_config=quant_config)\n",
        "# outputs = model.generate(inputs, max_new_tokens=2000, streamer=streamer)"
      ],
      "metadata": {
        "id": "0teZfwO9eeH-"
      },
      "execution_count": null,
      "outputs": []
    },
    {
      "cell_type": "code",
      "source": [
        "# Load tokenizer and model just once to reuse\n",
        "quant_config = BitsAndBytesConfig(\n",
        "    load_in_4bit=True,\n",
        "    bnb_4bit_use_double_quant=True,\n",
        "    bnb_4bit_compute_dtype=torch.bfloat16,\n",
        "    bnb_4bit_quant_type=\"nf4\"\n",
        ")\n",
        "\n",
        "tokenizer = AutoTokenizer.from_pretrained(LLAMA)\n",
        "tokenizer.pad_token = tokenizer.eos_token\n",
        "\n",
        "model = AutoModelForCausalLM.from_pretrained(\n",
        "    LLAMA,\n",
        "    device_map=\"auto\",\n",
        "    quantization_config=quant_config\n",
        ")"
      ],
      "metadata": {
        "id": "zQaNh7O8iwJw"
      },
      "execution_count": null,
      "outputs": []
    },
    {
      "cell_type": "code",
      "source": [
        "# Meeting Minutes Generation Function\n",
        "def generate_minutes(audio_path):\n",
        "    # Step 1: Transcribe audio with Whisper via OpenAI\n",
        "    with open(audio_path, \"rb\") as audio_file:\n",
        "        transcript = openai.audio.transcriptions.create(\n",
        "            model=AUDIO_MODEL,\n",
        "            file=audio_file,\n",
        "            response_format=\"text\"\n",
        "        )\n",
        "\n",
        "    # Step 2: Prepare prompt for LLaMA\n",
        "    system_message = (\n",
        "        \"You are an assistant that produces minutes of meetings from transcripts, \"\n",
        "        \"with summary, key discussion points, takeaways and action items with owners, in markdown.\"\n",
        "    )\n",
        "\n",
        "    user_prompt = (\n",
        "        f\"Below is an extract transcript of a Denver council meeting. \"\n",
        "        f\"Please write minutes in markdown, including a summary with attendees, location and date; \"\n",
        "        f\"discussion points; takeaways; and action items with owners.\\n\\n{transcript}\"\n",
        "    )\n",
        "\n",
        "    messages = [\n",
        "        {\"role\": \"system\", \"content\": system_message},\n",
        "        {\"role\": \"user\", \"content\": user_prompt}\n",
        "    ]\n",
        "\n",
        "    # Step 3: Tokenize and Generate\n",
        "    inputs = tokenizer.apply_chat_template(messages, return_tensors=\"pt\").to(\"cuda\")\n",
        "    streamer = TextStreamer(tokenizer)\n",
        "    outputs = model.generate(inputs, max_new_tokens=2000)\n",
        "    response = tokenizer.decode(outputs[0], skip_special_tokens=True)\n",
        "\n",
        "    return response\n"
      ],
      "metadata": {
        "id": "fHvqeHHWixiJ"
      },
      "execution_count": null,
      "outputs": []
    },
    {
      "cell_type": "code",
      "source": [
        "# Gradio Interface\n",
        "iface = gr.Interface(\n",
        "    fn=generate_minutes,\n",
        "    inputs=gr.Audio(type=\"filepath\", label=\"Upload Council Meeting Audio (MP3/WAV)\"),\n",
        "    outputs=gr.Markdown(label=\"📝 Meeting Minutes\"),\n",
        "    title=\"Meeting Minutes Generator\",\n",
        "    description=\"Upload an audio recording of a meeting and receive AI-generated minutes with summaries, action items, and key points.\"\n",
        ")"
      ],
      "metadata": {
        "id": "xEovz8wui2GH"
      },
      "execution_count": null,
      "outputs": []
    },
    {
      "cell_type": "code",
      "source": [
        "# Launch Gradio app\n",
        "iface.launch(share=True)"
      ],
      "metadata": {
        "id": "pUCeyIc0i3t-"
      },
      "execution_count": null,
      "outputs": []
    },
    {
      "cell_type": "code",
      "source": [
        "#Get the decoded text by taking the output\n",
        "\n",
        "# response = tokenizer.decode(outputs[0])"
      ],
      "metadata": {
        "id": "qXSregwVeeE6"
      },
      "execution_count": null,
      "outputs": []
    },
    {
      "cell_type": "code",
      "source": [
        "# display(Markdown(response))"
      ],
      "metadata": {
        "id": "0MmkI5ptegWk"
      },
      "execution_count": null,
      "outputs": []
    },
    {
      "cell_type": "code",
      "source": [],
      "metadata": {
        "id": "UDLEefDBegT5"
      },
      "execution_count": null,
      "outputs": []
    }
  ]
}